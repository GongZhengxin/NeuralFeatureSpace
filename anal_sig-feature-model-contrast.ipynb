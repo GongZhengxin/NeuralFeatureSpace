{
 "cells": [
  {
   "cell_type": "code",
   "execution_count": 1,
   "metadata": {},
   "outputs": [],
   "source": [
    "import os\n",
    "import glob\n",
    "import joblib\n",
    "import numpy as np\n",
    "import nibabel as nib\n",
    "import matplotlib.pyplot as plt\n",
    "\n",
    "from scipy.stats import zscore\n",
    "from os.path import join as pjoin\n",
    "from sklearn.decomposition import PCA\n",
    "from utils import get_roi_data, save_ciftifile, conv2_labels, save2cifti"
   ]
  },
  {
   "cell_type": "code",
   "execution_count": 2,
   "metadata": {},
   "outputs": [
    {
     "data": {
      "text/plain": [
       "(array([0., 1., 2., 3., 4., 5., 6., 7., 8., 9.]), (9, 59412))"
      ]
     },
     "execution_count": 2,
     "metadata": {},
     "output_type": "execute_result"
    }
   ],
   "source": [
    "wk_dir = '/nfs/z1/userhome/GongZhengXin/NVP/NaturalObject/data/code/nodretinotopy/mfm_locwise_fullpipeline/'\n",
    "corr_path = os.path.join(wk_dir, 'build/featurewise-corr')\n",
    "voxel_mask_path = os.path.join(wk_dir, 'prep/voxel_masks/')\n",
    "\n",
    "subs = [f'sub-0{i+1}' for i in list(range(9))]\n",
    "bmaskname = 'subjvis'\n",
    "layername = 'googlenet-conv2'\n",
    "modelname = 'RFmodels'\n",
    "\n",
    "mask_name = 'primaryvis-in-MMP'\n",
    "voxel_mask_nii = nib.load(os.path.join(voxel_mask_path, f'nod-voxmask_{mask_name}.dlabel.nii'))\n",
    "voxel_mask = np.squeeze(voxel_mask_nii.get_fdata())\n",
    "voxel_indices = np.where(voxel_mask==1)[0]\n",
    "\n",
    "# generate specific ROI\n",
    "v1_voxels = np.array([ _ for _ in np.where(get_roi_data(None, 'V1')==1)[0] if _ in voxel_indices])\n",
    "v2_voxels = np.array([ _ for _ in  np.where(get_roi_data(None, 'V2')==1)[0] if _ in voxel_indices])\n",
    "v3_voxels = np.array([ _ for _ in  np.where(get_roi_data(None, 'V3')==1)[0] if _ in voxel_indices])\n",
    "v4_voxels = np.array([ _ for _ in  np.where(get_roi_data(None, 'V4')==1)[0] if _ in voxel_indices])\n",
    "\n",
    "sharing_repeats = nib.load(os.path.join(voxel_mask_path, 'nod-voxmask_gmmret-in-subj-repeats.dscalar.nii')).get_fdata()\n",
    "mask_gmm = nib.load(os.path.join(voxel_mask_path, 'nod-voxmask_gmmret-in-subj.dlabel.nii')).get_fdata()\n",
    "mask_fix = nib.load(os.path.join(voxel_mask_path, 'nod-voxmask_fixret-in-subj.dlabel.nii')).get_fdata()\n",
    "np.unique(sharing_repeats), mask_gmm.shape"
   ]
  },
  {
   "cell_type": "code",
   "execution_count": 29,
   "metadata": {},
   "outputs": [
    {
     "name": "stdout",
     "output_type": "stream",
     "text": [
      "(9, 1, 59412)\n",
      "(9, 1, 59412)\n",
      "(9, 1, 59412)\n"
     ]
    }
   ],
   "source": [
    "indexname = 'full-model-ev-train'\n",
    "\n",
    "dots_color = {'full-model-r':'#00CEE0', 'full-model-r-train':'#00838F',\n",
    "              'full-model-ev':'#F96E46', 'full-model-ev-train':'#ECB009',}\n",
    "cor_path = os.path.join(wk_dir, 'build/featurewise-corr')\n",
    "model_folders = ['', 'singlesig', 'doublesig']\n",
    "model_performance = {}\n",
    "for model_folder in model_folders:\n",
    "    modelcor_path = os.path.join(cor_path, model_folder)\n",
    "    filepattern =os.path.join(modelcor_path, f\"sub-*/*{indexname}.npy\")\n",
    "    files = glob.glob(filepattern)\n",
    "    cors = []\n",
    "    files = sorted(files)\n",
    "    for file in files:\n",
    "        corr = np.load(file)\n",
    "        cors.append(corr)\n",
    "        # print(file.split('/')[-1], ':', np.nanmin(corr), np.nanmax(corr))\n",
    "        # print(file.split('/')[-1], ':', corr.shape)\n",
    "    model_performance[model_folder] = np.stack(cors, axis=0)\n",
    "\n",
    "    print(model_performance[model_folder].shape)"
   ]
  },
  {
   "cell_type": "code",
   "execution_count": 5,
   "metadata": {},
   "outputs": [
    {
     "name": "stdout",
     "output_type": "stream",
     "text": [
      "t-statistic: -15.68983187459753\n",
      "p-value: 4.978292708932759e-55\n",
      "sub-01 t-statistic: 8.17484226326392\n",
      "sub-01 p-value: 5.894582027540633e-16\n",
      "----------------------\n",
      "sub-02 t-statistic: -11.791998856889226\n",
      "sub-02 p-value: 7.440784940858002e-31\n",
      "----------------------\n",
      "sub-03 t-statistic: -6.2672521333583635\n",
      "sub-03 p-value: 4.695472151597709e-10\n",
      "----------------------\n",
      "sub-04 t-statistic: -11.191147820271018\n",
      "sub-04 p-value: 4.637941751617357e-28\n",
      "----------------------\n",
      "sub-05 t-statistic: -12.576274708576912\n",
      "sub-05 p-value: 1.1057312185984542e-34\n",
      "----------------------\n",
      "sub-06 t-statistic: -3.9952242445163866\n",
      "sub-06 p-value: 6.751842770740351e-05\n",
      "----------------------\n",
      "sub-07 t-statistic: -1.4300410904602683\n",
      "sub-07 p-value: 0.1528973433291668\n",
      "----------------------\n",
      "sub-08 t-statistic: -9.418242868170342\n",
      "sub-08 p-value: 1.5136817517519257e-20\n",
      "----------------------\n",
      "sub-09 t-statistic: 0.4807154610795452\n",
      "sub-09 p-value: 0.6307833732410766\n",
      "----------------------\n"
     ]
    }
   ],
   "source": [
    "import scipy.stats as stats\n",
    "show_roi = v1_voxels\n",
    "\n",
    "# model_folders = ['', 'doublesig', 'singlesig']\n",
    "\n",
    "data1 = model_performance[''][:,0,show_roi].reshape(-1)\n",
    "data2 = model_performance['doublesig'][:,0,show_roi].reshape(-1)\n",
    "notnan_vertex = list(set(np.where(np.isnan(data1)==0)[0]) & set(np.where(np.isnan(data2)==0)[0]))\n",
    "# 执行配对t检验\n",
    "t_stat, p_value = stats.ttest_rel(data1[np.array(notnan_vertex)], data2[np.array(notnan_vertex)])\n",
    "\n",
    "# 输出结果\n",
    "print(\"t-statistic:\", t_stat)\n",
    "print(\"p-value:\", p_value)\n",
    "\n",
    "for isub, sub in enumerate(subs):\n",
    "\n",
    "    sig_roi = show_roi #np.array([_ for _ in show_roi if _ in np.where(fullmodel_sig[isub]==1)[0]]) \n",
    "\n",
    "    data1 = corrs[isub,0,sig_roi].reshape(-1)\n",
    "    data2 = ctrlcors[isub,0,sig_roi].reshape(-1)\n",
    "    notnan_vertex = list(set(np.where(np.isnan(data1)==0)[0]) & set(np.where(np.isnan(data2)==0)[0]))\n",
    "    # 执行配对t检验\n",
    "    t_stat, p_value = stats.ttest_rel(data1[np.array(notnan_vertex)], data2[np.array(notnan_vertex)])\n",
    "\n",
    "    # 输出结果\n",
    "    print(sub, \"t-statistic:\", t_stat)\n",
    "    print(sub, \"p-value:\", p_value)\n",
    "    print(\"----------------------\")"
   ]
  },
  {
   "cell_type": "code",
   "execution_count": 30,
   "metadata": {},
   "outputs": [
    {
     "data": {
      "image/png": "[encoded data removed]",
      "text/plain": [
       "<Figure size 1000x500 with 1 Axes>"
      ]
     },
     "metadata": {},
     "output_type": "display_data"
    }
   ],
   "source": [
    "# 示例数据：9个被试，3种模型\n",
    "n_subjects = 9\n",
    "n_models = 3\n",
    "\n",
    "show_roi = v1_voxels\n",
    "\n",
    "# 每个被试在每种模型下的数据\n",
    "performance = np.zeros((n_subjects, n_models)) # 平均性能\n",
    "errors = np.zeros((n_subjects, n_models)) # 误差数据\n",
    "model_folders = ['', 'singlesig', 'doublesig']\n",
    "for i, model_folder in enumerate(model_folders): \n",
    "    performance[:,i] = np.nanmean(model_performance[model_folder][:,0,show_roi],axis=1)\n",
    "    errors[:,i] = 1.96 * np.nanstd(model_performance[model_folder][:,0,show_roi],axis=1) / np.sqrt(len(show_roi))\n",
    "\n",
    "# 模型名称和颜色\n",
    "models = ['FullModel', 'SigFeature', 'DoubelSig']\n",
    "colors = [\"#ffc2bf\",\"#ff9793\",\"#ff6666\"]#['red', 'blue']\n",
    "\n",
    "# 绘制条形图\n",
    "plt.style.use('default')\n",
    "fig, ax = plt.subplots(figsize=(10,5))\n",
    "\n",
    "# 为每个模型生成条形图\n",
    "bar_width = 0.25  # 条形的宽度\n",
    "for i in range(n_models):\n",
    "    # 计算每个条形的位置\n",
    "    indices = np.arange(n_subjects) + i * bar_width\n",
    "    # 绘制条形图\n",
    "    ax.bar(indices, performance[:, i], bar_width, label=models[i], color=colors[i], yerr=errors[:, i])\n",
    "\n",
    "# 设置图表标题和标签\n",
    "ax.set_xlabel('Subject', fontsize=16)\n",
    "indexlabel = indexname.replace('full-model-', '')\n",
    "ax.set_ylabel(f'Performance ({indexlabel})', fontsize=16)\n",
    "# ax.set_title('Average Performance of Each Model per Subject')\n",
    "ax.set_xticks(np.arange(n_subjects) + bar_width)\n",
    "ax.set_xticklabels(['Subject {}'.format(i+1) for i in range(n_subjects)], fontsize=10)\n",
    "\n",
    "ax.legend(fontsize=10)\n",
    "plt.tight_layout()\n",
    "# 显示图表\n",
    "plt.show()"
   ]
  },
  {
   "cell_type": "code",
   "execution_count": 34,
   "metadata": {},
   "outputs": [
    {
     "data": {
      "text/plain": [
       "(array([0.61825573, 0.72677222, 0.68530633, 0.63420767, 0.56595542,\n",
       "        0.57349487, 0.68776179, 0.6332381 , 0.63707985]),\n",
       " array([0.51860645, 0.64552023, 0.57780755, 0.51882312, 0.44793282,\n",
       "        0.46377087, 0.59056744, 0.53221848, 0.52478974]))"
      ]
     },
     "execution_count": 34,
     "metadata": {},
     "output_type": "execute_result"
    }
   ],
   "source": [
    "(performance[:,1] / performance[:,0]), performance[:,2] / performance[:,0]"
   ]
  },
  {
   "cell_type": "code",
   "execution_count": null,
   "metadata": {},
   "outputs": [],
   "source": []
  }
 ],
 "metadata": {
  "kernelspec": {
   "display_name": "jupyter",
   "language": "python",
   "name": "python3"
  },
  "language_info": {
   "codemirror_mode": {
    "name": "ipython",
    "version": 3
   },
   "file_extension": ".py",
   "mimetype": "text/x-python",
   "name": "python",
   "nbconvert_exporter": "python",
   "pygments_lexer": "ipython3",
   "version": "3.8.5"
  }
 },
 "nbformat": 4,
 "nbformat_minor": 2
}
