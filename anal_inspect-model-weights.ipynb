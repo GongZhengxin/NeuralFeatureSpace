{
 "cells": [
  {
   "cell_type": "code",
   "execution_count": 1,
   "metadata": {},
   "outputs": [],
   "source": [
    "import os\n",
    "import gc\n",
    "import torch\n",
    "import torch.nn as nn\n",
    "import numpy as np\n",
    "import nibabel as nib\n",
    "import statsmodels.api as sm                                                                                        \n",
    "from os.path import join as pjoin\n",
    "from sklearn.linear_model import LinearRegression\n",
    "from scipy import stats\n",
    "from scipy.stats import zscore\n",
    "from joblib import Parallel, delayed\n",
    "import time\n",
    "from utils import train_data_normalization, Timer, net_size_info, conv2_labels"
   ]
  },
  {
   "cell_type": "code",
   "execution_count": 2,
   "metadata": {},
   "outputs": [
    {
     "name": "stdout",
     "output_type": "stream",
     "text": [
      "sub-01 primaryvis-in-MMP googlenet-conv2\n"
     ]
    }
   ],
   "source": [
    "sub = 'sub-01'\n",
    "inputlayername = 'googlenet-conv2' \n",
    "layer = {'name': inputlayername, 'size': net_size_info[inputlayername.replace('raw-', '')]}\n",
    "layername = layer['name']\n",
    "layername = layername.replace('.','')\n",
    "labels = conv2_labels\n",
    "mask_name = 'primaryvis-in-MMP' #'fixretfloc-in-subj'\n",
    "test_set_name = 'coco'\n",
    "print(sub, mask_name, layername)\n",
    "fold_indices = [(0, 1000), (1000, 2000), (2000, 3000), (3000, 4000)]\n",
    "# path settings\n",
    "work_dir = '/nfs/z1/userhome/GongZhengXin/NVP/NaturalObject/data/code/nodretinotopy/mfm_locwise_fullpipeline/'\n",
    "# input path\n",
    "resp_path = pjoin(work_dir, 'prep/brain_response')\n",
    "voxel_mask_path = pjoin(work_dir, 'prep/voxel_masks')\n",
    "image_activations_path = pjoin(work_dir, 'prep/image_activations')\n",
    "retino_path = pjoin(work_dir, 'build/retinoparams')\n",
    "guass_path = pjoin(work_dir, 'build/gaussianparams')\n",
    "performance_path = pjoin(work_dir, 'build/featurewise-corr/conv1-pca-nonlinear')\n",
    "# save path"
   ]
  },
  {
   "cell_type": "code",
   "execution_count": null,
   "metadata": {},
   "outputs": [],
   "source": []
  }
 ],
 "metadata": {
  "kernelspec": {
   "display_name": "jupyter",
   "language": "python",
   "name": "python3"
  },
  "language_info": {
   "codemirror_mode": {
    "name": "ipython",
    "version": 3
   },
   "file_extension": ".py",
   "mimetype": "text/x-python",
   "name": "python",
   "nbconvert_exporter": "python",
   "pygments_lexer": "ipython3",
   "version": "3.8.5"
  }
 },
 "nbformat": 4,
 "nbformat_minor": 2
}
