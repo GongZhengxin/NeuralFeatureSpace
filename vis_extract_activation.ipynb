{
 "cells": [
  {
   "cell_type": "code",
   "execution_count": 1,
   "metadata": {},
   "outputs": [],
   "source": [
    "import glob\n",
    "import os\n",
    "import time\n",
    "from PIL import Image\n",
    "\n",
    "import numpy as np\n",
    "import torch\n",
    "import torch.nn as nn\n",
    "import torchvision.models as models\n",
    "from torch.utils.data import Dataset, DataLoader, TensorDataset\n",
    "from torchvision import transforms\n",
    "from scipy.stats import zscore"
   ]
  },
  {
   "cell_type": "code",
   "execution_count": 2,
   "metadata": {},
   "outputs": [],
   "source": [
    "# settings\n",
    "inputlayername = 'inception3a' #input('enter layer name:')\n",
    "\n",
    "# imagenet image dir\n",
    "im_image_dir = '/nfs/z1/userhome/GongZhengXin/NVP/data_upload/NOD/stimuli/imagenet'\n",
    "cifti_dir = '/nfs/z1/userhome/GongZhengXin/NVP/data_upload/NOD/derivatives/ciftify'\n",
    "# experiment info\n",
    "sub = 'sub-02'"
   ]
  },
  {
   "cell_type": "code",
   "execution_count": 12,
   "metadata": {},
   "outputs": [],
   "source": [
    "sessions = ['imagenet01','imagenet02','imagenet03','imagenet04']\n",
    "# device\n",
    "device = torch.device('cuda' if torch.cuda.is_available() else 'cpu')\n",
    "\n",
    "# pretrained net weights\n",
    "pretrained_weights_path = '/nfs/z1/userhome/GongZhengXin/NVP/NaturalObject/data/code/nodretinotopy/googlenet-1378be20.pth'\n",
    "\n",
    "# training params\n",
    "layer = {'name': inputlayername}\n",
    "\n",
    "# output paths\n",
    "image_name_path = '/nfs/z1/userhome/GongZhengXin/NVP/NaturalObject/data/code/nodretinotopy/mfm_locwise_fullpipeline/prep/image_names'\n",
    "image_activations_path = '/nfs/z1/userhome/GongZhengXin/NVP/NaturalObject/data/code/nodretinotopy/mfm_locwise_fullpipeline/prep/image_activations'\n"
   ]
  },
  {
   "cell_type": "code",
   "execution_count": 13,
   "metadata": {},
   "outputs": [],
   "source": [
    "if os.path.exists(os.path.join(image_name_path, f'{sub}_imagenet.csv')):\n",
    "    with open(os.path.join(image_name_path, f'{sub}_imagenet.csv'), 'r') as f:\n",
    "        image_paths = [_.replace('\\n', '') for _ in f.readlines()] \n",
    "else:\n",
    "    # collect run folder\n",
    "    folders = []\n",
    "    for session in sessions:\n",
    "        for run_folder in glob.glob(os.path.join(cifti_dir, sub, \"results/\", f\"*{session}*\")):\n",
    "            folders.append(run_folder)\n",
    "    folders = sorted(folders)\n",
    "\n",
    "    # collect image names\n",
    "    image_names_files = []\n",
    "    for folder in folders:\n",
    "        for img_label_txt in glob.glob(os.path.join(folder, \"*label.txt\")): \n",
    "            image_names_files.append(img_label_txt) # 顺序为 1 10 2 3 ...\n",
    "\n",
    "    # compose image paths\n",
    "    image_paths = []\n",
    "    for image_name_file in image_names_files:\n",
    "        with open(image_name_file, 'r') as f:\n",
    "            image_names = [ _.split('/')[-1].replace('\\n', '') for _ in f.readlines() ]\n",
    "            image_path = [ os.path.join(im_image_dir, _.split('_')[0], _) for _ in image_names]\n",
    "        image_paths.extend(image_path)\n",
    "\n",
    "    with open(os.path.join(image_name_path, f'{sub}_imagenet.csv'), 'w') as f:\n",
    "        f.writelines('\\n'.join(image_paths))\n",
    "\n",
    "\n",
    "# intial preprocess\n",
    "transform = transforms.Compose([\n",
    "    transforms.Resize((227, 227)),\n",
    "    transforms.ToTensor(),\n",
    "])\n",
    "\n",
    "# 读取和转换图片\n",
    "images = [Image.open(p).convert('RGB') for p in image_paths]\n",
    "images = [transform(img) for img in images]\n",
    "\n",
    "# 初始化数据和模型\n",
    "num_images = len(images[0:10])\n",
    "x_data = torch.stack(images[0:10]).to(device)"
   ]
  },
  {
   "cell_type": "code",
   "execution_count": 8,
   "metadata": {},
   "outputs": [
    {
     "data": {
      "text/plain": [
       "torch.Size([10, 3, 227, 227])"
      ]
     },
     "execution_count": 8,
     "metadata": {},
     "output_type": "execute_result"
    }
   ],
   "source": [
    "x_data.shape"
   ]
  },
  {
   "cell_type": "code",
   "execution_count": 10,
   "metadata": {},
   "outputs": [
    {
     "name": "stdout",
     "output_type": "stream",
     "text": [
      "\n",
      "conv1\n",
      "conv1.conv,conv1.bn,maxpool1\n",
      "conv2\n",
      "conv2.conv,conv2.bn,conv3\n",
      "conv3.conv,conv3.bn,maxpool2\n",
      "inception3a\n",
      "inception3a.branch1,inception3a.branch1.conv,inception3a.branch1.bn,inception3a.branch2,inception3a.branch2.0,inception3a.branch2.0.conv,inception3a.branch2.0.bn,inception3a.branch2.1,inception3a.branch2.1.conv,inception3a.branch2.1.bn,inception3a.branch3,inception3a.branch3.0,inception3a.branch3.0.conv,inception3a.branch3.0.bn,inception3a.branch3.1,inception3a.branch3.1.conv,inception3a.branch3.1.bn,inception3a.branch4,inception3a.branch4.0,inception3a.branch4.1,inception3a.branch4.1.conv,inception3a.branch4.1.bn,inception3b\n",
      "inception3b.branch1,inception3b.branch1.conv,inception3b.branch1.bn,inception3b.branch2,inception3b.branch2.0,inception3b.branch2.0.conv,inception3b.branch2.0.bn,inception3b.branch2.1,inception3b.branch2.1.conv,inception3b.branch2.1.bn,inception3b.branch3,inception3b.branch3.0,inception3b.branch3.0.conv,inception3b.branch3.0.bn,inception3b.branch3.1,inception3b.branch3.1.conv,inception3b.branch3.1.bn,inception3b.branch4,inception3b.branch4.0,inception3b.branch4.1,inception3b.branch4.1.conv,inception3b.branch4.1.bn,maxpool3\n",
      "inception4a\n",
      "inception4a.branch1,inception4a.branch1.conv,inception4a.branch1.bn,inception4a.branch2,inception4a.branch2.0,inception4a.branch2.0.conv,inception4a.branch2.0.bn,inception4a.branch2.1,inception4a.branch2.1.conv,inception4a.branch2.1.bn,inception4a.branch3,inception4a.branch3.0,inception4a.branch3.0.conv,inception4a.branch3.0.bn,inception4a.branch3.1,inception4a.branch3.1.conv,inception4a.branch3.1.bn,inception4a.branch4,inception4a.branch4.0,inception4a.branch4.1,inception4a.branch4.1.conv,inception4a.branch4.1.bn,inception4b\n",
      "inception4b.branch1,inception4b.branch1.conv,inception4b.branch1.bn,inception4b.branch2,inception4b.branch2.0,inception4b.branch2.0.conv,inception4b.branch2.0.bn,inception4b.branch2.1,inception4b.branch2.1.conv,inception4b.branch2.1.bn,inception4b.branch3,inception4b.branch3.0,inception4b.branch3.0.conv,inception4b.branch3.0.bn,inception4b.branch3.1,inception4b.branch3.1.conv,inception4b.branch3.1.bn,inception4b.branch4,inception4b.branch4.0,inception4b.branch4.1,inception4b.branch4.1.conv,inception4b.branch4.1.bn,inception4c\n",
      "inception4c.branch1,inception4c.branch1.conv,inception4c.branch1.bn,inception4c.branch2,inception4c.branch2.0,inception4c.branch2.0.conv,inception4c.branch2.0.bn,inception4c.branch2.1,inception4c.branch2.1.conv,inception4c.branch2.1.bn,inception4c.branch3,inception4c.branch3.0,inception4c.branch3.0.conv,inception4c.branch3.0.bn,inception4c.branch3.1,inception4c.branch3.1.conv,inception4c.branch3.1.bn,inception4c.branch4,inception4c.branch4.0,inception4c.branch4.1,inception4c.branch4.1.conv,inception4c.branch4.1.bn,inception4d\n",
      "inception4d.branch1,inception4d.branch1.conv,inception4d.branch1.bn,inception4d.branch2,inception4d.branch2.0,inception4d.branch2.0.conv,inception4d.branch2.0.bn,inception4d.branch2.1,inception4d.branch2.1.conv,inception4d.branch2.1.bn,inception4d.branch3,inception4d.branch3.0,inception4d.branch3.0.conv,inception4d.branch3.0.bn,inception4d.branch3.1,inception4d.branch3.1.conv,inception4d.branch3.1.bn,inception4d.branch4,inception4d.branch4.0,inception4d.branch4.1,inception4d.branch4.1.conv,inception4d.branch4.1.bn,inception4e\n",
      "inception4e.branch1,inception4e.branch1.conv,inception4e.branch1.bn,inception4e.branch2,inception4e.branch2.0,inception4e.branch2.0.conv,inception4e.branch2.0.bn,inception4e.branch2.1,inception4e.branch2.1.conv,inception4e.branch2.1.bn,inception4e.branch3,inception4e.branch3.0,inception4e.branch3.0.conv,inception4e.branch3.0.bn,inception4e.branch3.1,inception4e.branch3.1.conv,inception4e.branch3.1.bn,inception4e.branch4,inception4e.branch4.0,inception4e.branch4.1,inception4e.branch4.1.conv,inception4e.branch4.1.bn,maxpool4\n",
      "inception5a\n",
      "inception5a.branch1,inception5a.branch1.conv,inception5a.branch1.bn,inception5a.branch2,inception5a.branch2.0,inception5a.branch2.0.conv,inception5a.branch2.0.bn,inception5a.branch2.1,inception5a.branch2.1.conv,inception5a.branch2.1.bn,inception5a.branch3,inception5a.branch3.0,inception5a.branch3.0.conv,inception5a.branch3.0.bn,inception5a.branch3.1,inception5a.branch3.1.conv,inception5a.branch3.1.bn,inception5a.branch4,inception5a.branch4.0,inception5a.branch4.1,inception5a.branch4.1.conv,inception5a.branch4.1.bn,inception5b\n",
      "inception5b.branch1,inception5b.branch1.conv,inception5b.branch1.bn,inception5b.branch2,inception5b.branch2.0,inception5b.branch2.0.conv,inception5b.branch2.0.bn,inception5b.branch2.1,inception5b.branch2.1.conv,inception5b.branch2.1.bn,inception5b.branch3,inception5b.branch3.0,inception5b.branch3.0.conv,inception5b.branch3.0.bn,inception5b.branch3.1,inception5b.branch3.1.conv,inception5b.branch3.1.bn,inception5b.branch4,inception5b.branch4.0,inception5b.branch4.1,inception5b.branch4.1.conv,inception5b.branch4.1.bn,aux1\n",
      "aux1.conv,aux1.conv.conv,aux1.conv.bn,aux1.fc1,aux1.fc2,aux2\n",
      "aux2.conv,aux2.conv.conv,aux2.conv.bn,aux2.fc1,aux2.fc2,avgpool\n",
      "dropout\n",
      "fc\n"
     ]
    }
   ],
   "source": [
    "# initialize structure\n",
    "net = models.googlenet()\n",
    "# load parameters\n",
    "net.load_state_dict(torch.load(pretrained_weights_path))\n",
    "net.to(device)\n",
    "net.eval()\n",
    "\n",
    "# 用于存储激活值的列表\n",
    "activations = []\n",
    "\n",
    "# 钩子函数\n",
    "def hook(module, input, output):\n",
    "    activations.append(output.cpu().detach().numpy())\n",
    "    print('.',end=' ')\n",
    "# 用 named_modules 获取所有层的名称和模块，并在特定层上注册钩子\n",
    "for name, module in net.named_modules():\n",
    "    if '.' in name:\n",
    "        print(name, end=',')\n",
    "    else:\n",
    "        print(name)"
   ]
  },
  {
   "cell_type": "code",
   "execution_count": 22,
   "metadata": {},
   "outputs": [],
   "source": [
    "layer['name'] = 'conv2'"
   ]
  },
  {
   "cell_type": "code",
   "execution_count": 23,
   "metadata": {},
   "outputs": [],
   "source": [
    "# initialize structure\n",
    "net = models.googlenet()\n",
    "# load parameters\n",
    "net.load_state_dict(torch.load(pretrained_weights_path))\n",
    "net.to(device)\n",
    "net.eval()\n",
    "\n",
    "# 用于存储激活值的列表\n",
    "activations = []\n",
    "\n",
    "# 钩子函数\n",
    "def hook(module, input, output):\n",
    "    activations.append(output.cpu().detach().numpy())\n",
    "    print('.',end=' ')\n",
    "# 用 named_modules 获取所有层的名称和模块，并在特定层上注册钩子\n",
    "for name, module in net.named_modules():\n",
    "    if name == layer['name']:  # 这是第二个卷积层（Conv2）的名称\n",
    "        handle = module.register_forward_hook(hook)"
   ]
  },
  {
   "cell_type": "code",
   "execution_count": 24,
   "metadata": {},
   "outputs": [
    {
     "name": "stdout",
     "output_type": "stream",
     "text": [
      "extract activation batch 0\n",
      ". "
     ]
    }
   ],
   "source": [
    "# make dataset\n",
    "dataset = TensorDataset(x_data)\n",
    "loader = DataLoader(dataset, batch_size=40, shuffle=False)\n",
    "\n",
    "for batch_idx, (inputs,) in enumerate(loader):\n",
    "    if batch_idx % 25 == 0:\n",
    "        print(f'extract activation batch {batch_idx}')\n",
    "    inputs = inputs.to(device)\n",
    "\n",
    "    with torch.no_grad():\n",
    "        net(inputs)"
   ]
  },
  {
   "cell_type": "code",
   "execution_count": 25,
   "metadata": {},
   "outputs": [
    {
     "data": {
      "text/plain": [
       "(10, 64, 57, 57)"
      ]
     },
     "execution_count": 25,
     "metadata": {},
     "output_type": "execute_result"
    }
   ],
   "source": [
    "activations[0].shape"
   ]
  },
  {
   "cell_type": "code",
   "execution_count": 39,
   "metadata": {},
   "outputs": [],
   "source": [
    "from scipy.ndimage import zoom\n",
    "# 定义降采样函数\n",
    "def downsample(data, target_shape):\n",
    "    \"\"\"\n",
    "    对给定的三维数据进行降采样。\n",
    "    :param data: 原始数据，三维 numpy 数组。\n",
    "    :param target_shape: 目标形状，一个三元组。\n",
    "    :return: 降采样后的数据。\n",
    "    \"\"\"\n",
    "    zoom_factors = [n / d for n, d in zip(target_shape, data.shape)]\n",
    "    return zoom(data, zoom_factors, order=3)  # 使用线性插值进行降采样\n",
    "downsampled_data  = downsample(activations[0][0], (64, 28, 28))"
   ]
  },
  {
   "cell_type": "code",
   "execution_count": 40,
   "metadata": {},
   "outputs": [
    {
     "data": {
      "text/plain": [
       "((10, 64, 57, 57), (64, 28, 28))"
      ]
     },
     "execution_count": 40,
     "metadata": {},
     "output_type": "execute_result"
    }
   ],
   "source": [
    "activations[0].shape, downsampled_data.shape"
   ]
  },
  {
   "cell_type": "code",
   "execution_count": 44,
   "metadata": {},
   "outputs": [
    {
     "data": {
      "text/plain": [
       "<matplotlib.image.AxesImage at 0x7fad579e0820>"
      ]
     },
     "execution_count": 44,
     "metadata": {},
     "output_type": "execute_result"
    },
    {
     "data": {
      "image/png": "[encoded data removed]",
      "text/plain": [
       "<Figure size 432x288 with 1 Axes>"
      ]
     },
     "metadata": {
      "needs_background": "light"
     },
     "output_type": "display_data"
    }
   ],
   "source": [
    "import matplotlib.pyplot as plt \n",
    "\n",
    "plt.imshow(activations[0][0][0])"
   ]
  },
  {
   "cell_type": "code",
   "execution_count": 43,
   "metadata": {},
   "outputs": [
    {
     "data": {
      "text/plain": [
       "<matplotlib.image.AxesImage at 0x7fad57a06eb0>"
      ]
     },
     "execution_count": 43,
     "metadata": {},
     "output_type": "execute_result"
    },
    {
     "data": {
      "image/png": "[encoded data removed]",
      "text/plain": [
       "<Figure size 432x288 with 1 Axes>"
      ]
     },
     "metadata": {
      "needs_background": "light"
     },
     "output_type": "display_data"
    }
   ],
   "source": [
    "plt.imshow(downsampled_data[0])"
   ]
  },
  {
   "cell_type": "code",
   "execution_count": null,
   "metadata": {},
   "outputs": [],
   "source": []
  }
 ],
 "metadata": {
  "kernelspec": {
   "display_name": "jupyter",
   "language": "python",
   "name": "python3"
  },
  "language_info": {
   "codemirror_mode": {
    "name": "ipython",
    "version": 3
   },
   "file_extension": ".py",
   "mimetype": "text/x-python",
   "name": "python",
   "nbconvert_exporter": "python",
   "pygments_lexer": "ipython3",
   "version": "3.8.5"
  }
 },
 "nbformat": 4,
 "nbformat_minor": 2
}
