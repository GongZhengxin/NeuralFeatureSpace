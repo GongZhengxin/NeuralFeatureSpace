{
 "cells": [
  {
   "cell_type": "code",
   "execution_count": 2,
   "metadata": {},
   "outputs": [],
   "source": [
    "import os\n",
    "from os.path import join \n",
    "import numpy as np\n",
    "import nibabel as nib\n",
    "from utils import save2cifti"
   ]
  },
  {
   "cell_type": "code",
   "execution_count": 3,
   "metadata": {},
   "outputs": [],
   "source": [
    "work_dir = '/nfs/z1/userhome/zzl-xsk/Featurespace'\n",
    "actavations_path = join(work_dir, 'prep/image_activations')\n",
    "subs = ['sub-01','sub-02']\n",
    "layers = ['googlenet-conv2_ds', 'googlenet-inception3a', 'googlenet-maxpool2']"
   ]
  },
  {
   "cell_type": "markdown",
   "metadata": {},
   "source": [
    "#### 存出 masked dnn prf\n"
   ]
  },
  {
   "cell_type": "code",
   "execution_count": 6,
   "metadata": {},
   "outputs": [
    {
     "name": "stdout",
     "output_type": "stream",
     "text": [
      "/nfs/z1/userhome/zzl-xsk/Featurespace/anal/brainmap/masked_retinotopy/sub-01/sub-01_raw-googlenet-maxpool1-masked-dnn-prf.dscalar.nii\n"
     ]
    }
   ],
   "source": [
    "from utils import save2cifti\n",
    "opendata_cifti_pth = '/nfs/z1/userhome/zzl-xsk/NOD/derivatives/ciftify'\n",
    "work_dir = '/nfs/z1/userhome/zzl-xsk/Featurespace'\n",
    "retino_path = pjoin(work_dir, 'build/retinoparams/primaryvis-in-MMP')\n",
    "layername = 'raw-googlenet-maxpool1'\n",
    "map_dir = pjoin(work_dir, 'anal/brainmap/masked_retinotopy')\n",
    "subs = [f'sub-0{isub+1}' for isub in range(0, 9)]\n",
    "for sub in subs[0:1]:\n",
    "    os.makedirs(pjoin(map_dir, sub), exist_ok=True)\n",
    "\n",
    "    dnnprf = np.load(pjoin(retino_path, f'{sub}_layer-{layername}_params.npy'), allow_pickle=True)[0]\n",
    "    named_maps = list(dnnprf.keys())\n",
    "\n",
    "    # transfer mask into indices\n",
    "    voxel_indices = np.where(np.isnan(dnnprf[named_maps[0]])!=1)[0]\n",
    "\n",
    "    masked_prf = np.nan*np.zeros((4, 59412))\n",
    "    for irow, indexname in enumerate(named_maps):\n",
    "        masked_prf[irow, voxel_indices] = dnnprf[indexname][voxel_indices]\n",
    "    \n",
    "    bfiletemplate = nib.load('/nfs/z1/userhome/zzl-xsk/workingdir/template.dtseries.nii')\n",
    "    brain_models = bfiletemplate.header.get_index_map(1).brain_models\n",
    "    surface_brain_models = [bm for bm in brain_models if bm.model_type == 'CIFTI_MODEL_TYPE_SURFACE']\n",
    "    print(pjoin(map_dir, sub, f'{sub}_{layername}-masked-dnn-prf.dscalar.nii'))\n",
    "    save2cifti(pjoin(map_dir, sub, f'{sub}_{layername}-masked-dnn-prf.dscalar.nii'),  \n",
    "                masked_prf, surface_brain_models, map_names=named_maps)"
   ]
  },
  {
   "cell_type": "markdown",
   "metadata": {},
   "source": [
    "#### 下面根据每个体素在三个层估计出的prf的R2来选择体素，组成一个新的prf"
   ]
  },
  {
   "cell_type": "code",
   "execution_count": 16,
   "metadata": {},
   "outputs": [],
   "source": [
    "work_dir = '/nfs/z1/userhome/zzl-xsk/Featurespace'\n",
    "cifti_path = '/nfs/z1/userhome/zzl-xsk/NOD/derivatives/ciftify'\n",
    "prf_dir = join(work_dir, 'build/retinoparams/primaryvis-in-MMP')\n",
    "corrmap_dir = join(work_dir, 'build/corrmap')\n",
    "guass_path = join(work_dir, 'build/gaussianparams/primaryvis-in-MMP')\n",
    "voxel_mask_path = os.path.join(work_dir, 'prep/voxel_masks')\n",
    "map_dir = join(work_dir, 'anal/brainmap/masked_retinotopy')\n",
    "mask_name = 'primaryvis-in-MMP'\n",
    "subs = [f'sub-0{isub+1}' for isub in range(0, 9)]\n",
    "# sub = subs[0]"
   ]
  },
  {
   "cell_type": "code",
   "execution_count": 17,
   "metadata": {},
   "outputs": [],
   "source": [
    "voxel_mask_nii = nib.load(os.path.join(voxel_mask_path, f'nod-voxmask_{mask_name}.dlabel.nii'))\n",
    "voxel_mask = voxel_mask_nii.get_fdata()\n",
    "\n",
    "prf_data = nib.load(os.path.join(cifti_path, f'{sub}/results/ses-prf_task-prf/ses-prf_task-prf_params.dscalar.nii')).get_fdata()\n",
    "#选取R2大于10的体素\n",
    "R2_values = prf_data[3, :]\n",
    "valid_R2_indices = np.where(R2_values >= 10)[0]\n",
    "\n",
    "mmp_voxel_mask = np.squeeze(np.array(voxel_mask))\n",
    "# 确定最终的mask indices\n",
    "mmp_voxel_indices = np.where(mmp_voxel_mask==1)[0]\n",
    "voxel_indices = np.intersect1d(mmp_voxel_indices, valid_R2_indices)"
   ]
  },
  {
   "cell_type": "code",
   "execution_count": 18,
   "metadata": {},
   "outputs": [],
   "source": [
    "conv2_prf = np.load(join(prf_dir, f'{sub}_layer-googlenet-conv2_params.npy'),allow_pickle=True).item()\n",
    "conv2_prf_R2 = conv2_prf['R2']\n",
    "\n",
    "inception3a_prf = np.load(join(prf_dir, f'{sub}_layer-googlenet-inception3a_params.npy'),allow_pickle=True).item()\n",
    "inception3a_prf_R2 = inception3a_prf['R2']\n",
    "\n",
    "maxpool2_prf = np.load(join(prf_dir, f'{sub}_layer-googlenet-maxpool2_params.npy'),allow_pickle=True).item()\n",
    "maxpool2_prf_R2 = maxpool2_prf['R2']\n"
   ]
  },
  {
   "cell_type": "code",
   "execution_count": 13,
   "metadata": {},
   "outputs": [],
   "source": [
    "#save guass params\n",
    "np.save(join(guass_path, f'{sub}_voted_Gauss.npy'), np.array([new_guass]), allow_pickle=True)"
   ]
  },
  {
   "cell_type": "markdown",
   "metadata": {},
   "source": [
    "#### 批处理"
   ]
  },
  {
   "cell_type": "code",
   "execution_count": 7,
   "metadata": {},
   "outputs": [],
   "source": [
    "work_dir = '/nfs/z1/userhome/zzl-xsk/Featurespace'\n",
    "cifti_path = '/nfs/z1/userhome/zzl-xsk/NOD/derivatives/ciftify'\n",
    "prf_dir = join(work_dir, 'build/retinoparams/primaryvis-in-MMP')\n",
    "corrmap_dir = join(work_dir, 'build/corrmap')\n",
    "guass_path = join(work_dir, 'build/gaussianparams/primaryvis-in-MMP')\n",
    "voxel_mask_path = os.path.join(work_dir, 'prep/voxel_masks')\n",
    "map_dir = join(work_dir, 'anal/brainmap/masked_retinotopy')\n",
    "mask_name = 'primaryvis-in-MMP'\n",
    "subs = [f'sub-0{isub+1}' for isub in range(0, 9)]\n",
    "sub = subs[0]"
   ]
  },
  {
   "cell_type": "markdown",
   "metadata": {},
   "source": [
    "##### weighted"
   ]
  },
  {
   "cell_type": "code",
   "execution_count": 12,
   "metadata": {},
   "outputs": [],
   "source": [
    "\n",
    "def average_angle(weights, degrees):\n",
    "    # 将输入角度从以正 y 轴为 0° 转换为以正 x 轴为 0°\n",
    "    degrees = (degrees - 90) % 360\n",
    "    degrees[degrees > 180] -= 360  # 转换到 [-180, 180) 范围\n",
    "    \n",
    "    radians = np.deg2rad(degrees)\n",
    "    x = np.cos(radians)\n",
    "    y = np.sin(radians)\n",
    "    mean_x = np.nansum(weights*x)\n",
    "    mean_y = np.nansum(weights*y)\n",
    "    mean_angle = np.arctan2(mean_y, mean_x)\n",
    "    mean_angle = np.rad2deg(mean_angle)\n",
    "\n",
    "    # 将平均角度转换回以正 y 轴为 0° 的坐标系\n",
    "    mean_angle = (mean_angle + 90) % 360\n",
    "    mean_angle = (360 - mean_angle) % 360  # 使顺时针方向为正\n",
    "    mean_angle = mean_angle - 360 if mean_angle > 180 else mean_angle  # 转换到 [-180, 180) 范围\n",
    "    \n",
    "    return -mean_angle"
   ]
  },
  {
   "cell_type": "code",
   "execution_count": 15,
   "metadata": {},
   "outputs": [
    {
     "name": "stderr",
     "output_type": "stream",
     "text": [
      "<ipython-input-12-a2cf9cebb070>:3: RuntimeWarning: invalid value encountered in remainder\n",
      "  degrees = (degrees - 90) % 360\n"
     ]
    }
   ],
   "source": [
    "work_dir = '/nfs/z1/userhome/zzl-xsk/Featurespace'\n",
    "cifti_path = '/nfs/z1/userhome/zzl-xsk/NOD/derivatives/ciftify'\n",
    "prf_dir = join(work_dir, 'build/retinoparams/primaryvis-in-MMP')\n",
    "corrmap_dir = join(work_dir, 'build/corrmap')\n",
    "guass_path = join(work_dir, 'build/gaussianparams/primaryvis-in-MMP')\n",
    "voxel_mask_path = os.path.join(work_dir, 'prep/voxel_masks')\n",
    "map_dir = join(work_dir, 'anal/brainmap/masked_retinotopy')\n",
    "mask_name = 'primaryvis-in-MMP'\n",
    "subs = [f'sub-0{isub}' for isub in range(1, 10)]\n",
    "\n",
    "for sub in subs:\n",
    "    #体素选择\n",
    "    voxel_mask_nii = nib.load(os.path.join(voxel_mask_path, f'nod-voxmask_{mask_name}.dlabel.nii'))\n",
    "    voxel_mask = voxel_mask_nii.get_fdata()\n",
    "    prf_data = nib.load(os.path.join(cifti_path, f'{sub}/results/ses-prf_task-prf/ses-prf_task-prf_params.dscalar.nii')).get_fdata()\n",
    "    #选取R2大于10的体素\n",
    "    R2_values = prf_data[3, :]\n",
    "    valid_R2_indices = np.where(R2_values >= 10)[0]\n",
    "    mmp_voxel_mask = np.squeeze(np.array(voxel_mask))\n",
    "    # 确定最终的mask indices\n",
    "    mmp_voxel_indices = np.where(mmp_voxel_mask==1)[0]\n",
    "    voxel_indices = np.intersect1d(mmp_voxel_indices, valid_R2_indices)\n",
    "    #读取dnn prf 数值\n",
    "    conv2_prf = np.load(join(prf_dir, f'{sub}_layer-googlenet-conv2_params.npy'),allow_pickle=True).item()\n",
    "    conv2_prf_R2 = conv2_prf['R2']\n",
    "    maxpool1_prf = np.load(join(prf_dir, f'{sub}_layer-raw-googlenet-maxpool1_params.npy'),allow_pickle=True).item()\n",
    "    maxpool1_prf_R2 = maxpool1_prf['R2']\n",
    "    maxpool2_prf = np.load(join(prf_dir, f'{sub}_layer-googlenet-maxpool2_params.npy'),allow_pickle=True).item()\n",
    "    maxpool2_prf_R2 = maxpool2_prf['R2']\n",
    "    #\n",
    "    new_prf = np.nan * np.zeros((4, 59412))\n",
    "    new_guass = { }\n",
    "    conv2_guass = np.load(join(guass_path, f'{sub}_layer-googlenet-conv2_Gauss.npy'),allow_pickle=True).item()\n",
    "    maxpool1_guass = np.load(join(guass_path, f'{sub}_layer-raw-googlenet-maxpool1_Gauss.npy'),allow_pickle=True).item()\n",
    "    maxpool2_guass = np.load(join(guass_path, f'{sub}_layer-googlenet-maxpool2_Gauss.npy'),allow_pickle=True).item()\n",
    "\n",
    "    for voxel_idx in voxel_indices:\n",
    "        if voxel_idx not in conv2_guass.keys():\n",
    "            conv2_guass[voxel_idx] = (np.nan, np.nan, np.nan, np.nan, np.nan, np.nan)\n",
    "        if voxel_idx not in maxpool1_guass.keys():\n",
    "            maxpool1_guass[voxel_idx] = (np.nan, np.nan, np.nan, np.nan, np.nan, np.nan)\n",
    "        if voxel_idx not in maxpool2_guass.keys():\n",
    "            maxpool2_guass[voxel_idx] = (np.nan, np.nan, np.nan, np.nan, np.nan, np.nan)\n",
    "        \n",
    "        r2_conv2 = conv2_prf_R2[voxel_idx]\n",
    "        r2_maxpool1 = maxpool1_prf_R2[voxel_idx]\n",
    "        r2_maxpool2 = maxpool2_prf_R2[voxel_idx]\n",
    "\n",
    "        r_weights = np.array([r2_conv2, r2_maxpool1, r2_maxpool2])/np.nansum([r2_conv2, r2_maxpool1, r2_maxpool2])\n",
    "        \n",
    "        eccs = np.array([conv2_prf['ecc'][voxel_idx], maxpool1_prf['ecc'][voxel_idx], maxpool2_prf['ecc'][voxel_idx]])\n",
    "        angs = np.array([conv2_prf['ang'][voxel_idx], maxpool1_prf['ang'][voxel_idx], maxpool2_prf['ang'][voxel_idx]])\n",
    "        rfsizes = np.array([conv2_prf['rfsize'][voxel_idx], maxpool1_prf['rfsize'][voxel_idx], maxpool2_prf['rfsize'][voxel_idx]])\n",
    "        r2s = np.array([conv2_prf['R2'][voxel_idx], maxpool1_prf['R2'][voxel_idx], maxpool2_prf['R2'][voxel_idx]])\n",
    "\n",
    "\n",
    "        As =  np.array([conv2_guass[voxel_idx][0],  maxpool1_guass[voxel_idx][0], maxpool2_guass[voxel_idx][0]])\n",
    "        xs =  np.array([conv2_guass[voxel_idx][1],  maxpool1_guass[voxel_idx][1], maxpool2_guass[voxel_idx][1]])\n",
    "        ys =  np.array([conv2_guass[voxel_idx][2],  maxpool1_guass[voxel_idx][2], maxpool2_guass[voxel_idx][2]])\n",
    "        xsigs =  np.array([conv2_guass[voxel_idx][3],  maxpool1_guass[voxel_idx][3], maxpool2_guass[voxel_idx][3]])\n",
    "        ysigs =  np.array([conv2_guass[voxel_idx][4],  maxpool1_guass[voxel_idx][4], maxpool2_guass[voxel_idx][4]])\n",
    "        Cs =  np.array([conv2_guass[voxel_idx][5],  maxpool1_guass[voxel_idx][5], maxpool2_guass[voxel_idx][5]])\n",
    "\n",
    "        A, x, y, C = np.nansum(r_weights * As), np.nansum(r_weights * xs), np.nansum(r_weights * ys), np.nansum(r_weights * Cs)\n",
    "        xsig, ysig = np.sqrt(np.nansum(r_weights * xsigs ** 2)), np.sqrt(np.nansum(r_weights * ysigs ** 2)), \n",
    "        new_guass[voxel_idx] = (A, x , y, xsig, ysig, C) \n",
    "\n",
    "\n",
    "        new_prf[0, voxel_idx] = np.nansum(r_weights * eccs)\n",
    "        new_prf[1, voxel_idx] = average_angle(r_weights, angs)\n",
    "        new_prf[2, voxel_idx] = np.nansum(r_weights * rfsizes)\n",
    "        new_prf[3, voxel_idx] = np.nanmean(r2s)\n",
    "\n",
    "    named_maps = ['ecc', 'ang', 'rfsize', 'R2']\n",
    "    bfiletemplate = nib.load('/nfs/z1/userhome/zzl-xsk/workingdir/template.dtseries.nii')\n",
    "    brain_models = bfiletemplate.header.get_index_map(1).brain_models\n",
    "    surface_brain_models = [bm for bm in brain_models if bm.model_type == 'CIFTI_MODEL_TYPE_SURFACE']\n",
    "    # print(pjoin(map_dir, sub, f'{sub}_masked-prior-prf.dscalar.nii'))\n",
    "    save2cifti(join(map_dir, sub, f'{sub}_new-weighted-masked-dnn-prf.dscalar.nii'),  \n",
    "                new_prf, surface_brain_models, map_names=named_maps)\n",
    "    np.save(join(guass_path, f'{sub}_new-weighted_Gauss.npy'), np.array([new_guass]), allow_pickle=True)"
   ]
  },
  {
   "cell_type": "markdown",
   "metadata": {},
   "source": [
    "#### NSD weighted"
   ]
  },
  {
   "cell_type": "code",
   "execution_count": 2,
   "metadata": {},
   "outputs": [],
   "source": [
    "def average_angle(weights, degrees):\n",
    "    # 将输入角度从以正 y 轴为 0° 转换为以正 x 轴为 0°\n",
    "    degrees = (degrees - 90) % 360\n",
    "    degrees[degrees > 180] -= 360  # 转换到 [-180, 180) 范围\n",
    "    \n",
    "    radians = np.deg2rad(degrees)\n",
    "    x = np.cos(radians)\n",
    "    y = np.sin(radians)\n",
    "    mean_x = np.nansum(weights*x)\n",
    "    mean_y = np.nansum(weights*y)\n",
    "    mean_angle = np.arctan2(mean_y, mean_x)\n",
    "    mean_angle = np.rad2deg(mean_angle)\n",
    "\n",
    "    # 将平均角度转换回以正 y 轴为 0° 的坐标系\n",
    "    mean_angle = (mean_angle + 90) % 360\n",
    "    mean_angle = (360 - mean_angle) % 360  # 使顺时针方向为正\n",
    "    mean_angle = mean_angle - 360 if mean_angle > 180 else mean_angle  # 转换到 [-180, 180) 范围\n",
    "    \n",
    "    return -mean_angle"
   ]
  },
  {
   "cell_type": "code",
   "execution_count": 9,
   "metadata": {},
   "outputs": [
    {
     "name": "stderr",
     "output_type": "stream",
     "text": [
      "<ipython-input-2-a2cf9cebb070>:3: RuntimeWarning: invalid value encountered in remainder\n",
      "  degrees = (degrees - 90) % 360\n"
     ]
    },
    {
     "name": "stdout",
     "output_type": "stream",
     "text": [
      "/nfs/z1/userhome/zzl-xsk/workingdir/nsdretinotopy/anal/brainmap/masked_retinotopy/subj01/subj01_masked-prior-prf.dscalar.nii\n",
      "/nfs/z1/userhome/zzl-xsk/workingdir/nsdretinotopy/anal/brainmap/masked_retinotopy/subj02/subj02_masked-prior-prf.dscalar.nii\n",
      "/nfs/z1/userhome/zzl-xsk/workingdir/nsdretinotopy/anal/brainmap/masked_retinotopy/subj03/subj03_masked-prior-prf.dscalar.nii\n",
      "/nfs/z1/userhome/zzl-xsk/workingdir/nsdretinotopy/anal/brainmap/masked_retinotopy/subj04/subj04_masked-prior-prf.dscalar.nii\n",
      "/nfs/z1/userhome/zzl-xsk/workingdir/nsdretinotopy/anal/brainmap/masked_retinotopy/subj05/subj05_masked-prior-prf.dscalar.nii\n",
      "/nfs/z1/userhome/zzl-xsk/workingdir/nsdretinotopy/anal/brainmap/masked_retinotopy/subj06/subj06_masked-prior-prf.dscalar.nii\n",
      "/nfs/z1/userhome/zzl-xsk/workingdir/nsdretinotopy/anal/brainmap/masked_retinotopy/subj07/subj07_masked-prior-prf.dscalar.nii\n",
      "/nfs/z1/userhome/zzl-xsk/workingdir/nsdretinotopy/anal/brainmap/masked_retinotopy/subj08/subj08_masked-prior-prf.dscalar.nii\n"
     ]
    }
   ],
   "source": [
    "work_dir = '/nfs/z1/userhome/zzl-xsk/workingdir/nsdretinotopy'\n",
    "cifti_path = '/nfs/z1/userhome/zzl-xsk/NSD/derivatives/ciftify'\n",
    "prf_dir = join(work_dir, 'build/retinoparams')\n",
    "corrmap_dir = join(work_dir, 'build/corrmap')\n",
    "guass_path = join(work_dir, 'build/gaussianparams')\n",
    "voxel_mask_path = os.path.join(work_dir, 'prep/voxel_masks')\n",
    "map_dir = join(work_dir, 'anal/brainmap/masked_retinotopy')\n",
    "os.makedirs(map_dir, exist_ok=True)\n",
    "mask_name = 'primaryvis-in-MMP'\n",
    "subs = [f'subj0{isub}' for isub in range(1, 9)]\n",
    "\n",
    "for sub in subs:\n",
    "    #体素选择\n",
    "    voxel_mask_nii = nib.load(os.path.join(voxel_mask_path, f'nsd-voxmask_{mask_name}.dlabel.nii'))\n",
    "    voxel_mask = voxel_mask_nii.get_fdata()\n",
    "    prf_data = nib.load(os.path.join(cifti_path, sub, f'MNINonLinear/Results/prf_session/prf_session_params.dscalar.nii')).get_fdata()\n",
    "    #选取R2大于10的体素\n",
    "    R2_values = prf_data[3, :]\n",
    "    valid_R2_indices = np.where(R2_values >= 10)[0]\n",
    "    mmp_voxel_mask = np.squeeze(np.array(voxel_mask))\n",
    "    # 确定最终的mask indices\n",
    "    mmp_voxel_indices = np.where(mmp_voxel_mask==1)[0]\n",
    "    voxel_indices = np.intersect1d(mmp_voxel_indices, valid_R2_indices)\n",
    "    #读取dnn prf 数值\n",
    "    conv2_prf = np.load(join(prf_dir, f'{sub}_layer-googlenet-conv2_params.npy'),allow_pickle=True).item()\n",
    "    conv2_prf_R2 = conv2_prf['R2']\n",
    "    inception3a_prf = np.load(join(prf_dir, f'{sub}_layer-googlenet-inception3a_params.npy'),allow_pickle=True).item()\n",
    "    inception3a_prf_R2 = inception3a_prf['R2']\n",
    "    maxpool2_prf = np.load(join(prf_dir, f'{sub}_layer-googlenet-maxpool2_params.npy'),allow_pickle=True).item()\n",
    "    maxpool2_prf_R2 = maxpool2_prf['R2']\n",
    "    #\n",
    "    new_prf = np.nan * np.zeros((4, 59412))\n",
    "    new_guass = { }\n",
    "    conv2_guass = np.load(join(guass_path, f'{sub}_layer-googlenet-conv2_Gauss.npy'),allow_pickle=True).item()\n",
    "    inception3a_guass = np.load(join(guass_path, f'{sub}_layer-googlenet-inception3a_Gauss.npy'),allow_pickle=True).item()\n",
    "    maxpool2_guass = np.load(join(guass_path, f'{sub}_layer-googlenet-maxpool2_Gauss.npy'),allow_pickle=True).item()\n",
    "\n",
    "    for voxel_idx in voxel_indices:\n",
    "        if voxel_idx not in conv2_guass.keys():\n",
    "            conv2_guass[voxel_idx] = (np.nan, np.nan, np.nan, np.nan, np.nan, np.nan)\n",
    "        if voxel_idx not in inception3a_guass.keys():\n",
    "            inception3a_guass[voxel_idx] = (np.nan, np.nan, np.nan, np.nan, np.nan, np.nan)\n",
    "        if voxel_idx not in maxpool2_guass.keys():\n",
    "            maxpool2_guass[voxel_idx] = (np.nan, np.nan, np.nan, np.nan, np.nan, np.nan)\n",
    "        \n",
    "        r2_conv2 = conv2_prf_R2[voxel_idx]\n",
    "        r2_inception3a = inception3a_prf_R2[voxel_idx]\n",
    "        r2_maxpool2 = maxpool2_prf_R2[voxel_idx]\n",
    "\n",
    "        r_weights = np.array([r2_conv2, r2_inception3a, r2_maxpool2])/np.nansum([r2_conv2, r2_inception3a, r2_maxpool2])\n",
    "        \n",
    "        eccs = np.array([conv2_prf['ecc'][voxel_idx], inception3a_prf['ecc'][voxel_idx], maxpool2_prf['ecc'][voxel_idx]])\n",
    "        angs = np.array([conv2_prf['ang'][voxel_idx], inception3a_prf['ang'][voxel_idx], maxpool2_prf['ang'][voxel_idx]])\n",
    "        rfsizes = np.array([conv2_prf['rfsize'][voxel_idx], inception3a_prf['rfsize'][voxel_idx], maxpool2_prf['rfsize'][voxel_idx]])\n",
    "        r2s = np.array([conv2_prf['R2'][voxel_idx], inception3a_prf['R2'][voxel_idx], maxpool2_prf['R2'][voxel_idx]])\n",
    "\n",
    "\n",
    "        As =  np.array([conv2_guass[voxel_idx][0],  inception3a_guass[voxel_idx][0], maxpool2_guass[voxel_idx][0]])\n",
    "        xs =  np.array([conv2_guass[voxel_idx][1],  inception3a_guass[voxel_idx][1], maxpool2_guass[voxel_idx][1]])\n",
    "        ys =  np.array([conv2_guass[voxel_idx][2],  inception3a_guass[voxel_idx][2], maxpool2_guass[voxel_idx][2]])\n",
    "        xsigs =  np.array([conv2_guass[voxel_idx][3],  inception3a_guass[voxel_idx][3], maxpool2_guass[voxel_idx][3]])\n",
    "        ysigs =  np.array([conv2_guass[voxel_idx][4],  inception3a_guass[voxel_idx][4], maxpool2_guass[voxel_idx][4]])\n",
    "        Cs =  np.array([conv2_guass[voxel_idx][5],  inception3a_guass[voxel_idx][5], maxpool2_guass[voxel_idx][5]])\n",
    "\n",
    "        A, x, y, C = np.nansum(r_weights * As), np.nansum(r_weights * xs), np.nansum(r_weights * ys), np.nansum(r_weights * Cs)\n",
    "        xsig, ysig = np.sqrt(np.nansum(r_weights * xsigs ** 2)), np.sqrt(np.nansum(r_weights * ysigs ** 2)), \n",
    "        new_guass[voxel_idx] = (A, x , y, xsig, ysig, C) \n",
    "\n",
    "\n",
    "        new_prf[0, voxel_idx] = np.nansum(r_weights * eccs)\n",
    "        new_prf[1, voxel_idx] = average_angle(r_weights, angs)\n",
    "        new_prf[2, voxel_idx] = np.nansum(r_weights * rfsizes)\n",
    "        new_prf[3, voxel_idx] = np.nanmean(r2s)\n",
    "\n",
    "    named_maps = ['ecc', 'ang', 'rfsize', 'R2']\n",
    "    bfiletemplate = nib.load('/nfs/z1/userhome/zzl-xsk/workingdir/template.dtseries.nii')\n",
    "    brain_models = bfiletemplate.header.get_index_map(1).brain_models\n",
    "    surface_brain_models = [bm for bm in brain_models if bm.model_type == 'CIFTI_MODEL_TYPE_SURFACE']\n",
    "    print(pjoin(map_dir, sub, f'{sub}_masked-prior-prf.dscalar.nii'))\n",
    "    save2cifti(join(map_dir, sub, f'nsd_{sub}_weighted-masked-dnn-prf.dscalar.nii'),  \n",
    "                new_prf, surface_brain_models, map_names=named_maps)\n",
    "    np.save(join(guass_path, f'nsd_{sub}_weighted_Gauss.npy'), np.array([new_guass]), allow_pickle=True)"
   ]
  }
 ],
 "metadata": {
  "kernelspec": {
   "display_name": "xsk",
   "language": "python",
   "name": "python3"
  },
  "language_info": {
   "codemirror_mode": {
    "name": "ipython",
    "version": 3
   },
   "file_extension": ".py",
   "mimetype": "text/x-python",
   "name": "python",
   "nbconvert_exporter": "python",
   "pygments_lexer": "ipython3",
   "version": "3.8.5"
  }
 },
 "nbformat": 4,
 "nbformat_minor": 2
}
