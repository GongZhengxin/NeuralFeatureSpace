{
 "cells": [
  {
   "cell_type": "code",
   "execution_count": 2,
   "metadata": {},
   "outputs": [],
   "source": [
    "import numpy as np\n",
    "import os\n",
    "from os.path import join\n",
    "import pandas as pd"
   ]
  },
  {
   "cell_type": "code",
   "execution_count": null,
   "metadata": {},
   "outputs": [],
   "source": []
  },
  {
   "cell_type": "code",
   "execution_count": 49,
   "metadata": {},
   "outputs": [],
   "source": [
    "work_dir = '/nfs/z1/userhome/zzl-xsk/Featurespace'\n",
    "roi_concate_path = join(work_dir, 'prep/roi-concate')\n",
    "activation_path = join(work_dir, 'prep/image_activations')\n",
    "layers = [ 'googlenet-conv2', 'googlenet-inception3a', 'googlenet-maxpool2']\n",
    "subs = [f'sub-{isub:02d}' for isub in range(1, 10)]\n",
    "sub = subs[0]"
   ]
  },
  {
   "cell_type": "code",
   "execution_count": 52,
   "metadata": {},
   "outputs": [
    {
     "name": "stdout",
     "output_type": "stream",
     "text": [
      "sub-01 started\n",
      "sub-02 started\n",
      "sub-03 started\n",
      "sub-04 started\n",
      "sub-05 started\n",
      "sub-06 started\n",
      "sub-07 started\n",
      "sub-08 started\n",
      "sub-09 started\n"
     ]
    }
   ],
   "source": [
    "for layer in layers[2:3]:\n",
    "    data = {}\n",
    "    data['subs'] = subs\n",
    "    data['num'] = np.zeros(len(subs))\n",
    "    for i, sub in enumerate(subs):\n",
    "        print(f'{sub} started')\n",
    "        features_data = np.load(join(activation_path, f'{sub}_{layer}.npy'), mmap_mode='r')\n",
    "        new_feature = features_data.transpose((0,2,3,1)).reshape((-1,256))\n",
    "        stds = new_feature.std(axis=0)\n",
    "        data['num'][i] = len(np.where([np.allclose(stds[_],0) for _ in range(256)])[0])\n",
    "    df = pd.DataFrame(data)\n"
   ]
  },
  {
   "cell_type": "code",
   "execution_count": 53,
   "metadata": {},
   "outputs": [
    {
     "name": "stdout",
     "output_type": "stream",
     "text": [
      "     subs  num\n",
      "0  sub-01  0.0\n",
      "1  sub-02  0.0\n",
      "2  sub-03  0.0\n",
      "3  sub-04  0.0\n",
      "4  sub-05  0.0\n",
      "5  sub-06  0.0\n",
      "6  sub-07  0.0\n",
      "7  sub-08  0.0\n",
      "8  sub-09  0.0\n"
     ]
    }
   ],
   "source": [
    "print(df)"
   ]
  },
  {
   "cell_type": "code",
   "execution_count": 6,
   "metadata": {},
   "outputs": [
    {
     "data": {
      "text/plain": [
       "'googlenet-inception3a'"
      ]
     },
     "execution_count": 6,
     "metadata": {},
     "output_type": "execute_result"
    }
   ],
   "source": [
    "print"
   ]
  },
  {
   "cell_type": "code",
   "execution_count": 8,
   "metadata": {},
   "outputs": [
    {
     "name": "stdout",
     "output_type": "stream",
     "text": [
      "     subs  v1  v2  v3  v4 v1_indices v2_indices v3_indices v4_indices\n",
      "0  sub-01   0   0   0   0         []         []         []         []\n",
      "1  sub-02   0   0   0   0         []         []         []         []\n",
      "2  sub-03   0   0   0   0         []         []         []         []\n",
      "3  sub-04   0   0   0   0         []         []         []         []\n",
      "4  sub-05   0   0   0   0         []         []         []         []\n",
      "5  sub-06   0   0   0   0         []         []         []         []\n",
      "6  sub-07   0   0   0   0         []         []         []         []\n",
      "7  sub-08   0   0   0   0         []         []         []         []\n",
      "8  sub-09   0   0   0   0         []         []         []         []\n"
     ]
    }
   ],
   "source": [
    "print(df)"
   ]
  },
  {
   "cell_type": "code",
   "execution_count": 9,
   "metadata": {},
   "outputs": [],
   "source": [
    "data = [[[1, 1, 1, 1],\n",
    "         [2, 2, 2, 2]], \n",
    "         [[1, 1, 1, 1],\n",
    "         [2, 4, 2, 2]],\n",
    "         [[1, 1, 1, 1],\n",
    "         [2, 3, 2, 2]],]"
   ]
  },
  {
   "cell_type": "code",
   "execution_count": 18,
   "metadata": {},
   "outputs": [
    {
     "data": {
      "text/plain": [
       "(3, 2, 4)"
      ]
     },
     "execution_count": 18,
     "metadata": {},
     "output_type": "execute_result"
    }
   ],
   "source": [
    "data = np.array(data)\n",
    "data.shape"
   ]
  },
  {
   "cell_type": "code",
   "execution_count": 26,
   "metadata": {},
   "outputs": [],
   "source": [
    "data = np.random.randn(2,10,2)"
   ]
  },
  {
   "cell_type": "code",
   "execution_count": 27,
   "metadata": {},
   "outputs": [],
   "source": [
    "data = data.reshape(-1, 2)\n",
    "data[:, 0] = 0\n",
    "data = data.reshape((2,10,2))"
   ]
  },
  {
   "cell_type": "code",
   "execution_count": 28,
   "metadata": {},
   "outputs": [],
   "source": [
    "v2_constant_features = np.all(data == data[:, :1, :], axis=(0, 1))"
   ]
  },
  {
   "cell_type": "code",
   "execution_count": 31,
   "metadata": {},
   "outputs": [
    {
     "data": {
      "text/plain": [
       "array([[[ 0.        , -0.66073922],\n",
       "        [ 0.        ,  0.67235386],\n",
       "        [ 0.        , -1.41265646],\n",
       "        [ 0.        , -0.05731834],\n",
       "        [ 0.        ,  1.69706637],\n",
       "        [ 0.        ,  1.81936619],\n",
       "        [ 0.        ,  1.18388232],\n",
       "        [ 0.        , -1.62149165],\n",
       "        [ 0.        ,  0.50229478],\n",
       "        [ 0.        ,  0.39166889]],\n",
       "\n",
       "       [[ 0.        ,  0.38616383],\n",
       "        [ 0.        , -0.53859383],\n",
       "        [ 0.        , -0.17988884],\n",
       "        [ 0.        ,  0.01041502],\n",
       "        [ 0.        , -1.85320062],\n",
       "        [ 0.        , -0.31631768],\n",
       "        [ 0.        ,  1.13851701],\n",
       "        [ 0.        , -0.20436241],\n",
       "        [ 0.        ,  0.72441221],\n",
       "        [ 0.        , -0.2066568 ]]])"
      ]
     },
     "execution_count": 31,
     "metadata": {},
     "output_type": "execute_result"
    }
   ],
   "source": [
    "data"
   ]
  },
  {
   "cell_type": "code",
   "execution_count": 34,
   "metadata": {},
   "outputs": [
    {
     "data": {
      "text/plain": [
       "(2, 1, 2)"
      ]
     },
     "execution_count": 34,
     "metadata": {},
     "output_type": "execute_result"
    }
   ],
   "source": [
    "data[:, :1, :].shape"
   ]
  },
  {
   "cell_type": "code",
   "execution_count": 32,
   "metadata": {},
   "outputs": [
    {
     "data": {
      "text/plain": [
       "array([[[ True,  True],\n",
       "        [ True, False],\n",
       "        [ True, False],\n",
       "        [ True, False],\n",
       "        [ True, False],\n",
       "        [ True, False],\n",
       "        [ True, False],\n",
       "        [ True, False],\n",
       "        [ True, False],\n",
       "        [ True, False]],\n",
       "\n",
       "       [[ True,  True],\n",
       "        [ True, False],\n",
       "        [ True, False],\n",
       "        [ True, False],\n",
       "        [ True, False],\n",
       "        [ True, False],\n",
       "        [ True, False],\n",
       "        [ True, False],\n",
       "        [ True, False],\n",
       "        [ True, False]]])"
      ]
     },
     "execution_count": 32,
     "metadata": {},
     "output_type": "execute_result"
    }
   ],
   "source": [
    "data == data[:, :1, :]"
   ]
  },
  {
   "cell_type": "code",
   "execution_count": 35,
   "metadata": {},
   "outputs": [],
   "source": [
    "feature = np.load('/nfs/z1/userhome/zzl-xsk/Featurespace/prep/image_activations/sub-06_googlenet-inception3a.npy', mmap_mode='r')"
   ]
  },
  {
   "cell_type": "code",
   "execution_count": 36,
   "metadata": {},
   "outputs": [
    {
     "data": {
      "text/plain": [
       "(4000, 256, 28, 28)"
      ]
     },
     "execution_count": 36,
     "metadata": {},
     "output_type": "execute_result"
    }
   ],
   "source": [
    "feature.shape"
   ]
  },
  {
   "cell_type": "code",
   "execution_count": 37,
   "metadata": {},
   "outputs": [],
   "source": [
    "new_feature = feature.transpose((0,2,3,1)).reshape((-1,256))"
   ]
  },
  {
   "cell_type": "code",
   "execution_count": 42,
   "metadata": {},
   "outputs": [],
   "source": [
    "stds = new_feature.std(axis=0)"
   ]
  },
  {
   "cell_type": "code",
   "execution_count": 41,
   "metadata": {},
   "outputs": [
    {
     "data": {
      "text/plain": [
       "(256,)"
      ]
     },
     "execution_count": 41,
     "metadata": {},
     "output_type": "execute_result"
    }
   ],
   "source": [
    "new_feature.std(axis=0).shape"
   ]
  },
  {
   "cell_type": "code",
   "execution_count": 45,
   "metadata": {},
   "outputs": [
    {
     "data": {
      "text/plain": [
       "(array([], dtype=int64),)"
      ]
     },
     "execution_count": 45,
     "metadata": {},
     "output_type": "execute_result"
    }
   ],
   "source": [
    "np.where(np.allclose(stds,0))"
   ]
  },
  {
   "cell_type": "code",
   "execution_count": 47,
   "metadata": {},
   "outputs": [
    {
     "data": {
      "text/plain": [
       "(array([], dtype=int64),)"
      ]
     },
     "execution_count": 47,
     "metadata": {},
     "output_type": "execute_result"
    }
   ],
   "source": [
    "np.where([np.allclose(stds[_],0) for _ in range(256)])"
   ]
  },
  {
   "cell_type": "code",
   "execution_count": 55,
   "metadata": {},
   "outputs": [],
   "source": [
    "data = np.load('/nfs/z1/userhome/zzl-xsk/Featurespace/prep/roi-concate/sub-01/sub-01_layer-googlenet-conv2_V1-train-feature.npy', mmap_mode='r')"
   ]
  },
  {
   "cell_type": "code",
   "execution_count": 56,
   "metadata": {},
   "outputs": [
    {
     "data": {
      "text/plain": [
       "(739, 4000, 63)"
      ]
     },
     "execution_count": 56,
     "metadata": {},
     "output_type": "execute_result"
    }
   ],
   "source": [
    "data.shape"
   ]
  }
 ],
 "metadata": {
  "kernelspec": {
   "display_name": "xsk",
   "language": "python",
   "name": "python3"
  },
  "language_info": {
   "codemirror_mode": {
    "name": "ipython",
    "version": 3
   },
   "file_extension": ".py",
   "mimetype": "text/x-python",
   "name": "python",
   "nbconvert_exporter": "python",
   "pygments_lexer": "ipython3",
   "version": "3.8.5"
  }
 },
 "nbformat": 4,
 "nbformat_minor": 2
}
