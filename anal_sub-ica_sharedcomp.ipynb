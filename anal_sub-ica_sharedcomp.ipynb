{
 "cells": [
  {
   "cell_type": "code",
   "execution_count": 1,
   "metadata": {},
   "outputs": [],
   "source": [
    "import numpy as np\n",
    "import pandas as pd\n",
    "import glob\n",
    "from os.path import join as pjoin\n",
    "from sklearn.decomposition import FastICA\n",
    "from sklearn.preprocessing import StandardScaler\n",
    "import matplotlib.pyplot as plt\n",
    "import seaborn as sns\n",
    "import joblib"
   ]
  },
  {
   "cell_type": "code",
   "execution_count": 149,
   "metadata": {},
   "outputs": [],
   "source": [
    "icapath = '/nfs/z1/userhome/GongZhengXin/NVP/NaturalObject/data/code/nodretinotopy/mfm_locwise_fullpipeline/anal/feature-ica'\n",
    "components = []\n",
    "for i in range(9):\n",
    "    for ses in range(4):\n",
    "        components.append(joblib.load(pjoin(icapath, f'sub-0{i}_ses-{ses+1}_ica_model.pkl')).components_)\n",
    "components = np.vstack(components)\n",
    "compcors = np.corrcoef(components)"
   ]
  },
  {
   "cell_type": "code",
   "execution_count": 68,
   "metadata": {},
   "outputs": [],
   "source": [
    "selected = [8, 21, 33, 39, 44, 45, 51, 5, 10, 11, 31, 48, 73, 149, 266, 56, 78, 86]"
   ]
  },
  {
   "cell_type": "code",
   "execution_count": 150,
   "metadata": {},
   "outputs": [
    {
     "name": "stdout",
     "output_type": "stream",
     "text": [
      "0.99\n",
      "8 每个被试都有: True\n",
      "21 每个被试都有: True\n",
      "33 每个被试都有: True\n",
      "39 每个被试都有: True\n",
      "44 每个被试都有: True\n",
      "45 每个被试都有: True\n",
      "51 每个被试都有: True\n",
      "0.95\n",
      "5 每个被试都有: True\n",
      "10 每个被试都有: True\n",
      "11 每个被试都有: True\n",
      "31 每个被试都有: True\n",
      "48 每个被试都有: True\n",
      "73 每个被试都有: True\n",
      "149 每个被试都有: True\n",
      "266 每个被试都有: True\n",
      "0.9\n",
      "56 每个被试都有: True\n",
      "78 每个被试都有: True\n",
      "86 每个被试都有: True\n",
      "0.85\n",
      "67 每个被试都有: True\n",
      "1601 每个被试都有: True\n",
      "0.8\n",
      "4 每个被试都有: True\n",
      "686 每个被试都有: True\n",
      "1059 每个被试都有: True\n",
      "1522 每个被试都有: True\n",
      "1720 每个被试都有: True\n",
      "0.75\n",
      "414 每个被试都有: True\n",
      "1950 每个被试都有: True\n",
      "2177 每个被试都有: True\n",
      "0.7\n",
      "372 每个被试都有: True\n",
      "1612 每个被试都有: True\n",
      "0.65\n",
      "0.6\n"
     ]
    }
   ],
   "source": [
    "n_feature = 63\n",
    "compidxs = np.arange(compcors.shape[0])\n",
    "threses = [0.99, 0.95, 0.9, 0.85, 0.8, 0.75, 0.7, 0.65, 0.6]\n",
    "selected = []\n",
    "for thres in threses:\n",
    "    print(thres)\n",
    "    for _ in range(9):\n",
    "        highcorr_compnum = np.array([np.sum((np.abs(compcors[_])) > thres) for _ in range(compcors.shape[0])])\n",
    "        comps = np.where( highcorr_compnum == 36)[0]\n",
    "        if len(comps) > 0:\n",
    "            related_cols = np.argsort(np.abs(compcors[comps[0]]))[::-1][0:36]\n",
    "            for comp in comps:\n",
    "                if  np.all(np.sort( related_cols // n_feature) == np.arange(36)):\n",
    "                    print(compidxs[comp], '每个被试都有:', np.all(np.sort( related_cols // n_feature) == np.arange(36)))\n",
    "                    selected.append(compidxs[comp])\n",
    "                    n_feature -= 1 \n",
    "                    compcors = np.delete(compcors, related_cols, axis=0)\n",
    "                    compcors = np.delete(compcors, related_cols, axis=1)\n",
    "                    compidxs = np.delete(compidxs, related_cols)\n",
    "                    \n",
    "                    break"
   ]
  },
  {
   "cell_type": "code",
   "execution_count": 152,
   "metadata": {},
   "outputs": [
    {
     "name": "stdout",
     "output_type": "stream",
     "text": [
      "Indices of closest samples to each cluster center: [  23 1659 2092   32 2027  490 1375 1381  181  255 1108 1377  173 1088\n",
      " 1112 1684  186 2137 2134 1125 2114  273 2156 2041 1928 1141  358 1102\n",
      " 1527 1094 1666  497 2080]\n"
     ]
    }
   ],
   "source": [
    "import numpy as np\n",
    "from sklearn.cluster import KMeans\n",
    "\n",
    "# 假设你的数据已经加载到变量 data 中，且 data 的形状为 (1620, 1620)\n",
    "# data = np.load('your_data_file.npy')  # 例如，如果数据存储在.npy文件中\n",
    "data = np.abs(compcors)\n",
    "# 初始化KMeans模型，并进行拟合\n",
    "kmeans = KMeans(n_clusters=n_feature, random_state=0)\n",
    "kmeans.fit(data)\n",
    "\n",
    "# 获取聚类中心和标签\n",
    "centers = kmeans.cluster_centers_\n",
    "labels = kmeans.labels_\n",
    "\n",
    "# 初始化一个列表来存储每个聚类中心最近的样本索引\n",
    "closest_indices = []\n",
    "\n",
    "# 遍历每个聚类中心\n",
    "for i in range(len(centers)):\n",
    "    # 找到属于当前聚类的所有点\n",
    "    members = data[labels == i]\n",
    "    \n",
    "    # 计算这些点到聚类中心的距离\n",
    "    distances = np.linalg.norm(members - centers[i], axis=1)\n",
    "    \n",
    "    # 找到距离最小的点的索引\n",
    "    closest_index = np.argmin(distances)\n",
    "    \n",
    "    # 将属于当前聚类的所有点中距离最近的那个点的原始索引添加到列表中\n",
    "    # closest_samples.append(np.where(labels == i)[0][closest_index])\n",
    "    closest_indices.append(np.where(labels == i)[0][closest_index])\n",
    "# 打印每个聚类中心最近的样本的索引\n",
    "print(\"Indices of closest samples to each cluster center:\", compidxs[np.array(closest_indices)])\n"
   ]
  },
  {
   "cell_type": "code",
   "execution_count": 155,
   "metadata": {},
   "outputs": [
    {
     "data": {
      "text/plain": [
       "array([   8,   21,   33,   39,   44,   45,   51,    5,   10,   11,   31,\n",
       "         48,   73,  149,  266,   56,   78,   86,   67, 1601,    4,  686,\n",
       "       1059, 1522, 1720,  414, 1950, 2177,  372, 1612,   23, 1659, 2092,\n",
       "         32, 2027,  490, 1375, 1381,  181,  255, 1108, 1377,  173, 1088,\n",
       "       1112, 1684,  186, 2137, 2134, 1125, 2114,  273, 2156, 2041, 1928,\n",
       "       1141,  358, 1102, 1527, 1094, 1666,  497, 2080])"
      ]
     },
     "execution_count": 155,
     "metadata": {},
     "output_type": "execute_result"
    }
   ],
   "source": [
    "selected.extend(compidxs[np.array(closest_indices)])\n",
    "np.array(selected)"
   ]
  },
  {
   "cell_type": "code",
   "execution_count": 158,
   "metadata": {},
   "outputs": [],
   "source": [
    "np.save(pjoin(icapath, 'ica-unmixing_consistency-kmeans-centers.npy'), components[np.array(selected)])"
   ]
  },
  {
   "cell_type": "code",
   "execution_count": 159,
   "metadata": {},
   "outputs": [],
   "source": [
    "unmixing = components[np.array(selected)]"
   ]
  },
  {
   "cell_type": "code",
   "execution_count": 129,
   "metadata": {},
   "outputs": [
    {
     "name": "stdout",
     "output_type": "stream",
     "text": [
      "Indices of closest samples to each cluster center: [172, 1291, 2137, 273, 255, 117, 1373, 1807, 1928, 1098, 2228, 318, 1365, 2209, 10, 639, 2112, 620, 345, 1815, 1330, 1298, 2144, 582, 1852, 2139, 2225, 1663, 1288, 1381, 2125, 1766, 1272, 59, 186, 1405, 1112, 1858, 1207, 1349, 1375, 2041, 2140, 1802, 173, 1088, 1084, 1094, 2092, 1659, 2114, 1141, 1091, 29, 2027, 2134, 426, 291, 1950, 147, 497, 1377, 490]\n"
     ]
    }
   ],
   "source": [
    "import numpy as np\n",
    "from sklearn.cluster import KMeans\n",
    "\n",
    "# 假设你的数据已经加载到变量 data 中，且 data 的形状为 (1620, 1620)\n",
    "# data = np.load('your_data_file.npy')  # 例如，如果数据存储在.npy文件中\n",
    "data = np.abs(compcors)\n",
    "# 初始化KMeans模型，并进行拟合\n",
    "kmeans = KMeans(n_clusters=63, random_state=0)\n",
    "kmeans.fit(data)\n",
    "\n",
    "# 获取聚类中心和标签\n",
    "centers = kmeans.cluster_centers_\n",
    "labels = kmeans.labels_\n",
    "\n",
    "# 初始化一个列表来存储每个聚类中心最近的样本索引\n",
    "closest_indices = []\n",
    "\n",
    "# 遍历每个聚类中心\n",
    "for i in range(len(centers)):\n",
    "    # 找到属于当前聚类的所有点\n",
    "    members = data[labels == i]\n",
    "    \n",
    "    # 计算这些点到聚类中心的距离\n",
    "    distances = np.linalg.norm(members - centers[i], axis=1)\n",
    "    \n",
    "    # 找到距离最小的点的索引\n",
    "    closest_index = np.argmin(distances)\n",
    "    \n",
    "    # 将属于当前聚类的所有点中距离最近的那个点的原始索引添加到列表中\n",
    "    # closest_samples.append(np.where(labels == i)[0][closest_index])\n",
    "    closest_indices.append(np.where(labels == i)[0][closest_index])\n",
    "# 打印每个聚类中心最近的样本的索引\n",
    "print(\"Indices of closest samples to each cluster center:\", closest_indices)\n"
   ]
  },
  {
   "cell_type": "code",
   "execution_count": 136,
   "metadata": {},
   "outputs": [],
   "source": [
    "np.save(pjoin(icapath, 'ica-unmixing_kmeans-centers.npy'), components[closest_indices])"
   ]
  },
  {
   "cell_type": "code",
   "execution_count": 135,
   "metadata": {},
   "outputs": [
    {
     "data": {
      "text/plain": [
       "array([ 0,  0,  0,  1,  2,  2,  2,  2,  4,  4,  4,  5,  5,  6,  7,  7,  9,\n",
       "        9, 10, 17, 17, 17, 17, 17, 17, 18, 19, 20, 20, 20, 20, 21, 21, 21,\n",
       "       21, 21, 21, 21, 22, 26, 26, 28, 28, 28, 28, 29, 29, 30, 30, 32, 32,\n",
       "       33, 33, 33, 33, 33, 33, 33, 33, 34, 35, 35, 35])"
      ]
     },
     "execution_count": 135,
     "metadata": {},
     "output_type": "execute_result"
    }
   ],
   "source": [
    "np.unique(closest_indices) // 63"
   ]
  },
  {
   "cell_type": "code",
   "execution_count": null,
   "metadata": {},
   "outputs": [],
   "source": []
  }
 ],
 "metadata": {
  "kernelspec": {
   "display_name": "jupyter",
   "language": "python",
   "name": "python3"
  },
  "language_info": {
   "codemirror_mode": {
    "name": "ipython",
    "version": 3
   },
   "file_extension": ".py",
   "mimetype": "text/x-python",
   "name": "python",
   "nbconvert_exporter": "python",
   "pygments_lexer": "ipython3",
   "version": "3.8.5"
  }
 },
 "nbformat": 4,
 "nbformat_minor": 2
}
