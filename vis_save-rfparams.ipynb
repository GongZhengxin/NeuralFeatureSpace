{
 "cells": [
  {
   "cell_type": "code",
   "execution_count": 4,
   "metadata": {},
   "outputs": [],
   "source": [
    "import numpy as np\n",
    "from os.path import join as pjoin\n",
    "import nibabel as nib\n",
    "from utils import save2cifti"
   ]
  },
  {
   "cell_type": "code",
   "execution_count": 14,
   "metadata": {},
   "outputs": [],
   "source": [
    "wk_dir = '/nfs/z1/userhome/GongZhengXin/NVP/NaturalObject/data/code/nodretinotopy/mfm_locwise_fullpipeline'\n",
    "ret_dir = pjoin(wk_dir, 'build/retinoparams')\n",
    "map_dir = pjoin(wk_dir, 'anal/brainmap')"
   ]
  },
  {
   "cell_type": "code",
   "execution_count": 18,
   "metadata": {},
   "outputs": [],
   "source": [
    "params_file = 'sub-09_layer-raw-googlenet-conv2_params.npy'\n",
    "rfparams = np.load(pjoin(ret_dir, params_file), allow_pickle=True)[0]\n",
    "n_vertices = 59412\n",
    "dprf_params = np.zeros((n_vertices, 3))\n",
    "dprf_params[:,0] = 90 - rfparams['ang']\n",
    "dprf_params[:,1] = rfparams['ecc']\n",
    "dprf_params[:,2] = rfparams['rfsize']\n",
    "maps_name = list(rfparams.keys())\n",
    "bfiletemplate = nib.load('/nfs/z1/userhome/GongZhengXin/NVP/NaturalObject/data/code/nodretinotopy/mfm_locwise_fullpipeline/template.dtseries.nii')\n",
    "brain_models = bfiletemplate.header.get_index_map(1).brain_models\n",
    "surface_brain_models = [bm for bm in brain_models if bm.model_type == 'CIFTI_MODEL_TYPE_SURFACE']\n",
    "save2cifti(pjoin(map_dir, f'sub-09_layer-raw-googlenet-conv2_params.dscalar.nii'),  \n",
    "            dprf_params.transpose(), surface_brain_models, map_names=maps_name[0:3])\n"
   ]
  },
  {
   "cell_type": "code",
   "execution_count": null,
   "metadata": {},
   "outputs": [],
   "source": []
  }
 ],
 "metadata": {
  "kernelspec": {
   "display_name": "jupyter",
   "language": "python",
   "name": "python3"
  },
  "language_info": {
   "codemirror_mode": {
    "name": "ipython",
    "version": 3
   },
   "file_extension": ".py",
   "mimetype": "text/x-python",
   "name": "python",
   "nbconvert_exporter": "python",
   "pygments_lexer": "ipython3",
   "version": "3.8.5"
  }
 },
 "nbformat": 4,
 "nbformat_minor": 2
}
