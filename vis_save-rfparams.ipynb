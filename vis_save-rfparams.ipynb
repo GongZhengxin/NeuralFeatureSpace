{
 "cells": [
  {
   "cell_type": "code",
   "execution_count": 4,
   "metadata": {},
   "outputs": [],
   "source": [
    "import numpy as np\n",
    "import os\n",
    "from os.path import join as pjoin\n",
    "import nibabel as nib\n",
    "from utils import save2cifti, get_roi_data"
   ]
  },
  {
   "cell_type": "code",
   "execution_count": 2,
   "metadata": {},
   "outputs": [],
   "source": [
    "wk_dir = '/nfs/z1/userhome/zzl-xsk/workingdir/nsdretinotopy'\n",
    "# wk_dir= pjoin(wk_dir, 'NSD-mfm')\n",
    "ret_dir = pjoin(wk_dir, 'build/retinoparams')\n",
    "map_dir = pjoin(wk_dir, 'anal/brainmap')\n",
    "os.makedirs(map_dir, exist_ok=True)"
   ]
  },
  {
   "cell_type": "code",
   "execution_count": 5,
   "metadata": {},
   "outputs": [],
   "source": [
    "sub = 'sub-30'#'subj01'\n",
    "layername = 'raw-googlenet-conv2'\n",
    "params_file = f'{sub}_layer-googlenet-conv2_params.npy'\n",
    "rfparams = np.load(f'/nfs/z1/userhome/zzl-xsk/Featurespace/build/retinoparams/{sub}_layer-{layername}_params.npy', allow_pickle=True)[0]\n",
    "n_vertices = 59412\n",
    "dprf_params = np.zeros((n_vertices, 4))\n",
    "# dprf_params[:,0] = rfparams['ang']\n",
    "# dprf_params[:,1] = rfparams['ecc']\n",
    "# dprf_params[:,2] = rfparams['rfsize']\n",
    "# dprf_params[:,3] = rfparams['R2']\n",
    "maps_name = list(rfparams.keys())\n",
    "for i_index, index in enumerate(maps_name):\n",
    "    dprf_params[:,i_index] = rfparams[index]\n",
    "bfiletemplate = nib.load('/nfs/z1/userhome/GongZhengXin/NVP/NaturalObject/data/code/nodretinotopy/mfm_locwise_fullpipeline/template.dtseries.nii')\n",
    "brain_models = bfiletemplate.header.get_index_map(1).brain_models\n",
    "surface_brain_models = [bm for bm in brain_models if bm.model_type == 'CIFTI_MODEL_TYPE_SURFACE']\n",
    "save2cifti(pjoin(map_dir, f'{sub}_layer-{layername}_params.dscalar.nii'),  \n",
    "            dprf_params.transpose(), surface_brain_models, map_names=maps_name[0:4])\n"
   ]
  },
  {
   "cell_type": "code",
   "execution_count": 17,
   "metadata": {},
   "outputs": [
    {
     "data": {
      "text/plain": [
       "dict_keys(['ecc', 'ang', 'rfsize', 'R2'])"
      ]
     },
     "execution_count": 17,
     "metadata": {},
     "output_type": "execute_result"
    }
   ],
   "source": [
    "rfparams.keys()"
   ]
  },
  {
   "cell_type": "code",
   "execution_count": 20,
   "metadata": {},
   "outputs": [],
   "source": [
    "colors = ['#c7522a', '#ffa600', '#008585', '#194a7a']\n",
    "prf = nib.load('/nfs/z1/userhome/GongZhengXin/NVP/NaturalObject/data/code/nodretinotopy/mfm_locwise_fullpipeline/anal/brainmap/masked_retinotopy/nod_dnn-mean-prf.dscalar.nii').get_fdata()\n",
    "prfr2 = prf[-1]\n",
    "voxels = np.where(np.isnan(prfr2)==0)[0]\n",
    "v1_voxels = np.array([ _ for _ in np.where(get_roi_data(None, 'V1')==1)[0] if _ in voxels])\n",
    "v2_voxels = np.array([ _ for _ in  np.where(get_roi_data(None, 'V2')==1)[0] if _ in voxels])\n",
    "v3_voxels = np.array([ _ for _ in  np.where(get_roi_data(None, 'V3')==1)[0] if _ in voxels])\n",
    "v4_voxels = np.array([ _ for _ in  np.where(get_roi_data(None, 'V4')==1)[0] if _ in voxels])\n",
    "\n",
    "roi_label = (np.zeros_like(prfr2[np.newaxis, :]))\n",
    "roi_label[0][v1_voxels] = 1\n",
    "roi_label[0][v2_voxels] = 2\n",
    "roi_label[0][v3_voxels] = 3\n",
    "roi_label[0][v4_voxels] = 4\n",
    "\n",
    "mapnames = []\n",
    "label_tables = []\n",
    "labels_name = {0:'null' ,1: 'select-V1', 2:'select-V2', 3: 'select-V3', 4:'select-V4'}\n",
    "labels_rgba = {0 : (0,0,0,0),\n",
    "            1: (199/255,82/255,42/255,1),\n",
    "          2: (255/255, 166/255, 0, 1),\n",
    "          3:(0, 133/255, 133/255, 1),\n",
    "          4:(25/255, 74/255, 122/255, 1)}\n",
    "\n",
    "mapnames.append('selection')\n",
    "lbl_tb = nib.cifti2.Cifti2LabelTable()\n",
    "for key in np.unique(roi_label):\n",
    "    key = int(key)\n",
    "    lbl_tb[key] = nib.cifti2.Cifti2Label(key, labels_name[key], *labels_rgba[key])\n",
    "label_tables.append(lbl_tb)\n",
    "\n",
    "bfiletemplate = nib.load('/nfs/z1/userhome/GongZhengXin/NVP/NaturalObject/data/code/nodretinotopy/mfm_locwise_fullpipeline/template.dtseries.nii')\n",
    "brain_models = bfiletemplate.header.get_index_map(1).brain_models\n",
    "surface_brain_models = [bm for bm in brain_models if bm.model_type == 'CIFTI_MODEL_TYPE_SURFACE']\n",
    "save2cifti(pjoin('/nfs/z1/userhome/GongZhengXin/NVP/NaturalObject/data/code/nodretinotopy/mfm_locwise_fullpipeline/anal/brainmap/draw', \\\n",
    "            f'nod-selection-privis.dlabel.nii'),  \n",
    "            roi_label, surface_brain_models, map_names=mapnames, label_tables=label_tables)\n"
   ]
  },
  {
   "cell_type": "code",
   "execution_count": 16,
   "metadata": {},
   "outputs": [
    {
     "data": {
      "text/plain": [
       "(['selection'], (59412,))"
      ]
     },
     "execution_count": 16,
     "metadata": {},
     "output_type": "execute_result"
    }
   ],
   "source": [
    "mapnames,roi_label.shape"
   ]
  },
  {
   "cell_type": "code",
   "execution_count": null,
   "metadata": {},
   "outputs": [],
   "source": []
  }
 ],
 "metadata": {
  "kernelspec": {
   "display_name": "jupyter",
   "language": "python",
   "name": "python3"
  },
  "language_info": {
   "codemirror_mode": {
    "name": "ipython",
    "version": 3
   },
   "file_extension": ".py",
   "mimetype": "text/x-python",
   "name": "python",
   "nbconvert_exporter": "python",
   "pygments_lexer": "ipython3",
   "version": "3.8.5"
  }
 },
 "nbformat": 4,
 "nbformat_minor": 2
}
