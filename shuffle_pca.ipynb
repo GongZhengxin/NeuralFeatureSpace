{
 "cells": [
  {
   "cell_type": "code",
   "execution_count": 1,
   "metadata": {},
   "outputs": [],
   "source": [
    "import numpy as np\n",
    "import os\n",
    "from os.path import join\n",
    "import nibabel as nib"
   ]
  },
  {
   "cell_type": "code",
   "execution_count": 2,
   "metadata": {},
   "outputs": [],
   "source": [
    "#path setting\n",
    "work_dir = '/nfs/z1/userhome/zzl-xsk/Featurespace'\n",
    "pca_path = join(work_dir , 'prep/image_activations/pca/vectors')\n",
    "activation_path = join(work_dir , 'prep/image_activations/concate-activs')\n",
    "savepath = join(work_dir, 'prep/image_activations/pca-shuffle')\n",
    "os.makedirs(savepath, exist_ok=True)\n",
    "subs = [f'sub-{isub:02d}' for isub in range(1, 10)]"
   ]
  },
  {
   "cell_type": "code",
   "execution_count": 5,
   "metadata": {},
   "outputs": [],
   "source": [
    "pca = np.squeeze(np.load(join(pca_path , 'nodstimeigenvectors-64.npy'),mmap_mode='r'))\n",
    "activation = np.load(join(activation_path, 'all-sub_googlenet-conv2_activation.npy'), mmap_mode='r')\n",
    "coco_activation = np.load(join(work_dir, 'prep/image_activations/coco_googlenet-conv2.npy'), mmap_mode='r')[:, 0:63, :, :]\n",
    "mean = np.load(join(activation_path, 'all-sub_googlenet-conv2_63-activation_mean.npy'), mmap_mode='r').reshape(1, 63, 1, 1)\n",
    "std = np.load(join(activation_path, 'all-sub_googlenet-conv2_63-activation_std.npy'), mmap_mode='r').reshape(1, 63, 1, 1)\n",
    "\n",
    "shuffle_pca = np.copy(pca)\n",
    "for i in range(pca.shape[1]):\n",
    "    np.random.shuffle(shuffle_pca[:, i])"
   ]
  },
  {
   "cell_type": "code",
   "execution_count": 5,
   "metadata": {},
   "outputs": [
    {
     "name": "stdout",
     "output_type": "stream",
     "text": [
      "sub-01\n",
      "sub-02\n",
      "sub-03\n",
      "sub-04\n",
      "sub-05\n",
      "sub-06\n",
      "sub-07\n",
      "sub-08\n"
     ]
    }
   ],
   "source": [
    "for isub, sub in enumerate(subs):\n",
    "    print(f'{sub}')\n",
    "    start, end = 4000 * isub , 4000 * (isub + 1)\n",
    "    sub_activations = activation[start : end, 0 : 63, :, :]\n",
    "    sub_activations = (sub_activations - mean) / std\n",
    "    sub_activations = sub_activations.reshape(4000, 63, 57 * 57)\n",
    "\n",
    "    pca_results = np.dot(shuffle_pca , sub_activations)\n",
    "    pca_results = pca_results.reshape(63, 4000, 57, 57).transpose(1, 0, 2, 3)\n",
    "\n",
    "    np.save(join(savepath, f'{sub}_googlenet-conv2_pca-shuffle-comps.npy'), pca_results)"
   ]
  },
  {
   "cell_type": "code",
   "execution_count": 7,
   "metadata": {},
   "outputs": [],
   "source": [
    "coco_mean = coco_activation.mean(axis=(0, 2 , 3), keepdims=True)\n",
    "coco_std = coco_activation.std(axis=(0, 2, 3), keepdims=True)\n",
    "\n",
    "coco_activation = (coco_activation - coco_mean) / coco_std\n",
    "coco_activation = coco_activation.reshape(120, 63, 57 * 57)\n",
    "\n",
    "pca_results = np.dot(shuffle_pca , coco_activation)\n",
    "pca_results = pca_results.reshape(63, 120, 57, 57).transpose(1, 0, 2, 3)\n",
    "np.save(join(savepath, f'coco_googlenet-conv2_pca-shuffle-comps.npy'), pca_results)"
   ]
  },
  {
   "cell_type": "code",
   "execution_count": 8,
   "metadata": {},
   "outputs": [
    {
     "data": {
      "text/plain": [
       "(120, 63, 57, 57)"
      ]
     },
     "execution_count": 8,
     "metadata": {},
     "output_type": "execute_result"
    }
   ],
   "source": [
    "pca_results.shape"
   ]
  }
 ],
 "metadata": {
  "kernelspec": {
   "display_name": "xsk",
   "language": "python",
   "name": "python3"
  },
  "language_info": {
   "codemirror_mode": {
    "name": "ipython",
    "version": 3
   },
   "file_extension": ".py",
   "mimetype": "text/x-python",
   "name": "python",
   "nbconvert_exporter": "python",
   "pygments_lexer": "ipython3",
   "version": "3.8.5"
  }
 },
 "nbformat": 4,
 "nbformat_minor": 2
}
